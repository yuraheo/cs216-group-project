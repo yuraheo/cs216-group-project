{
 "cells": [
  {
   "cell_type": "code",
   "execution_count": null,
   "id": "9fd020b2",
   "metadata": {},
   "outputs": [],
   "source": [
    "import numpy as np\n",
    "import pandas as pd\n",
    "from scipy import stats\n",
    "import seaborn as sns\n",
    "import matplotlib.pyplot as plt"
   ]
  },
  {
   "cell_type": "code",
   "execution_count": null,
   "id": "e3670b0d",
   "metadata": {},
   "outputs": [],
   "source": [
    "try:\n",
    "    import sklearn\n",
    "    print(sklearn.__version__)\n",
    "    if (sklearn.__version__ < '1.3.0'): #update for latest scikit-learn version\n",
    "        !pip install -U --user scikit-learn\n",
    "except Exception as e:\n",
    "    !pip install scikit-learn"
   ]
  },
  {
   "cell_type": "code",
   "execution_count": null,
   "id": "9b13ccfc",
   "metadata": {},
   "outputs": [],
   "source": [
    "childcare = pd.read_csv(\"childcare_costs.csv\")\n",
    "childcare.head()"
   ]
  },
  {
   "cell_type": "code",
   "execution_count": null,
   "id": "c24bd243",
   "metadata": {},
   "outputs": [],
   "source": [
    "counties = pd.read_csv(\"counties.csv\")\n",
    "counties.head()"
   ]
  },
  {
   "cell_type": "code",
   "execution_count": null,
   "id": "c64d32fd",
   "metadata": {
    "scrolled": true
   },
   "outputs": [],
   "source": [
    "df = childcare.merge(counties, how = 'left', on = \"county_fips_code\")\n",
    "df.head()"
   ]
  },
  {
   "cell_type": "code",
   "execution_count": null,
   "id": "e68b484c",
   "metadata": {},
   "outputs": [],
   "source": [
    "nc_childcare = df[df['state_name'] == \"North Carolina\"]\n",
    "nc_childcare"
   ]
  },
  {
   "cell_type": "markdown",
   "id": "feaa9552",
   "metadata": {},
   "source": [
    "**Research Question 1**\n",
    "Exploratory Data Analysis\n",
    "1. What is the distribution of the relationship between child's stage and costs of childcare in North Carolina in the years 2014-2018?"
   ]
  },
  {
   "cell_type": "code",
   "execution_count": null,
   "id": "f846b6bc",
   "metadata": {},
   "outputs": [],
   "source": [
    "# Count the number of rows with at least one NaN\n",
    "count_rows_with_nan = nc_childcare.isnull().any(axis=1).sum()\n",
    "print(\"Number of rows with at least one NaN:\", count_rows_with_nan)"
   ]
  },
  {
   "cell_type": "code",
   "execution_count": null,
   "id": "efea9a96",
   "metadata": {},
   "outputs": [],
   "source": [
    "selected_columns = ['study_year','mcsa', 'mfccsa', 'mc_infant', 'mc_toddler', 'mc_preschool', 'mfcc_infant', 'mfcc_toddler', 'mfcc_preschool', 'county_name', 'state_name', 'state_abbreviation']\n",
    "rq1 = nc_childcare[selected_columns]\n",
    "rq1 = rq1.dropna(how = 'any')\n",
    "rq1"
   ]
  },
  {
   "cell_type": "code",
   "execution_count": null,
   "id": "e0222d36",
   "metadata": {},
   "outputs": [],
   "source": [
    "# In NC, aggregated median price charge for Family Childcare in the year 2014-2018\n",
    "rq1_family = rq1.groupby('study_year')[['mfcc_infant', 'mfcc_toddler', 'mfcc_preschool', 'mfccsa']].mean()\n",
    "rq1_family = rq1_family.reset_index()\n",
    "rq1_family"
   ]
  },
  {
   "cell_type": "code",
   "execution_count": null,
   "id": "ac80f004",
   "metadata": {},
   "outputs": [],
   "source": [
    "rq1_family['study_year'] = rq1_family['study_year'].astype(str)\n",
    "\n",
    "# Plotting the data\n",
    "ax = rq1_family.set_index('study_year').plot(kind='line', marker='o')\n",
    "\n",
    "# Adding labels and title\n",
    "plt.title('Median Price Increase for Family Childcare Groups Over Study Years')\n",
    "plt.xlabel('Study Year')\n",
    "plt.ylabel('Median Price')\n",
    "\n",
    "# Adding legend\n",
    "plt.legend(title='Childcare Groups')\n",
    "ax.legend(['Infant', 'Toddler', 'Preschool', 'School Age'], title='Childcare Groups')\n",
    "\n",
    "# Displaying the plot\n",
    "plt.show()"
   ]
  },
  {
   "cell_type": "markdown",
   "id": "07f615f6",
   "metadata": {},
   "source": [
    "Based on the distribution of the Family childcare spending of North Carolina in the years 2014 to 2018, we are able to make two general observations. \n",
    "1. There was a general increase in the spendings for all three child stages in the year 2014 to 2018.\n",
    "2. Between the Child stages, families spend the most on childcare when the child was an infant (0-23 months), then when the child was a toddler(24-35 months), and lastly they spent the least when the child was in preschool(36-54 months). "
   ]
  },
  {
   "cell_type": "code",
   "execution_count": null,
   "id": "31ed015e",
   "metadata": {},
   "outputs": [],
   "source": [
    "# In NC, aggregated median price charge for Center-Based Childcare in the year 2014-2018\n",
    "rq1_center = rq1.groupby('study_year')[['mc_infant', 'mc_toddler', 'mc_preschool', 'mcsa']].mean()\n",
    "rq1_center = rq1_center.reset_index()\n",
    "rq1_center"
   ]
  },
  {
   "cell_type": "code",
   "execution_count": null,
   "id": "7875426e",
   "metadata": {},
   "outputs": [],
   "source": [
    "rq1_center['study_year'] = rq1_center['study_year'].astype(str)\n",
    "\n",
    "# Plotting the data\n",
    "ax = rq1_center.set_index('study_year').plot(kind='line', marker='o')\n",
    "\n",
    "# Adding labels and title\n",
    "plt.title('Median Price Change for Center Childcare Groups Over Study Years')\n",
    "plt.xlabel('Study Year')\n",
    "plt.ylabel('Median Price')\n",
    "\n",
    "# Adding legend\n",
    "plt.legend(title='Childcare Groups')\n",
    "ax.legend(['Infant', 'Toddler', 'Preschool', 'School Age'], title='Childcare Groups')\n",
    "\n",
    "# Displaying the plot\n",
    "plt.show()"
   ]
  },
  {
   "cell_type": "code",
   "execution_count": null,
   "id": "8ddeadaf",
   "metadata": {},
   "outputs": [],
   "source": [
    "# Plotting specific columns from df1 (nc_year_grouped_center) in blue\n",
    "plt.plot(rq1_center['study_year'], rq1_center['mc_infant'], label='mc_infant', color='blue', marker = 'o')\n",
    "plt.plot(rq1_center['study_year'], rq1_center['mc_toddler'], label='mc_toddler', color='lightblue', marker = 's')\n",
    "plt.plot(rq1_center['study_year'], rq1_center['mc_preschool'], label='mc_preschool', color='skyblue', marker = '^')\n",
    "plt.plot(rq1_center['study_year'], rq1_center['mcsa'], label='mcsa', color='deepskyblue', marker = '+')\n",
    "\n",
    "# Plotting specific columns from df2 (nc_year_grouped) in red\n",
    "plt.plot(rq1_family['study_year'], rq1_family['mfcc_infant'], label='mfcc_infant', color='red', marker = 'o')\n",
    "plt.plot(rq1_family['study_year'], rq1_family['mfcc_toddler'], label='mfcc_toddler', color='lightcoral', marker = 's')\n",
    "plt.plot(rq1_family['study_year'], rq1_family['mfcc_preschool'], label='mfcc_preschool', color='salmon', marker = '^')\n",
    "plt.plot(rq1_family['study_year'], rq1_family['mfccsa'], label='mfccsa', color='tomato', marker = '+')\n",
    "\n",
    "# Adding labels and title\n",
    "plt.title('Multiple Subsets of Lines with Different Colors')\n",
    "plt.xlabel('Study Year')\n",
    "plt.ylabel('Median Price')\n",
    "\n",
    "\n",
    "# Display the plot\n",
    "plt.show()"
   ]
  },
  {
   "cell_type": "code",
   "execution_count": null,
   "id": "51bbdb8d",
   "metadata": {},
   "outputs": [],
   "source": [
    "rq1.head()# Group by study_year and get the unique counties for each year\n",
    "counties = rq1.groupby('study_year')['county_name'].count()\n",
    "counties\n",
    "#basically, includes almost all counties in the last four years. "
   ]
  },
  {
   "cell_type": "markdown",
   "id": "8504f60d",
   "metadata": {},
   "source": [
    "**Hypothesis Test**\n",
    "\n",
    "$H_0$: There is no difference between family and center-based childcare costs for any childcare group in 2018.\n",
    "\n",
    "$H_a$: There is some difference between family and center-based childcare costs for any childcare group in 2018."
   ]
  },
  {
   "cell_type": "markdown",
   "id": "1460ca9e",
   "metadata": {},
   "source": [
    "**Research Question**\n",
    "2. What is the distribution of poverty rate/unemployment rate in North Carolina in the years 2014-2018? "
   ]
  },
  {
   "cell_type": "code",
   "execution_count": null,
   "id": "ebd33637",
   "metadata": {},
   "outputs": [],
   "source": [
    "nc_year_grouped_ec = nc_childcare.groupby('study_year')[['pr_f', 'pr_p', 'unr_16']].mean()\n",
    "nc_year_grouped_ec = nc_year_grouped_ec.reset_index()\n",
    "melted_data_ec = pd.melt(nc_year_grouped_ec, id_vars=['study_year'], value_vars=['pr_f', 'pr_p', 'unr_16'], var_name='Socioeconomic Indicators', value_name='Poverty/Unemployment Rate')\n",
    "melted_data_ec\n",
    "melted_data_ec = melted_data_ec[(melted_data_ec['study_year'] >= 2014) & (melted_data_ec['study_year'] <= 2018)]\n",
    "\n",
    "g2 = sns.catplot(x='study_year', y = \"Poverty/Unemployment Rate\", hue = \"Socioeconomic Indicators\", kind='bar', data = melted_data_ec, palette='Paired', aspect=2)\n",
    "\n",
    "\n",
    "g2.set_axis_labels(\"Study Year\", \"Poverty/Unemployment Rate\")\n",
    "new_labels = ['Poverty Rate for Families', 'Poverty Rate for Individuals', 'Unemployment Rate']\n",
    "for t, l in zip(g2._legend.texts, new_labels):\n",
    "    t.set_text(l)\n",
    "    \n",
    "\n",
    "\n",
    "# Add a title to the plot\n",
    "plt.title(\"Poverty/Unemployment rate in North Carolina in the years 2014-2018\")\n",
    "\n",
    "# Show the plot\n",
    "plt.show()"
   ]
  },
  {
   "cell_type": "markdown",
   "id": "7b5dcab4",
   "metadata": {},
   "source": [
    "Based on the distribution of the Poverty/Unemployment Rate of North Carolina in the years 2014 to 2018, we are able to make two general observations.\n",
    "\n",
    "1. There was a general decrease in the Poverty and the Unemployment rates in the year 2014 to 2018.\n",
    "2. Between the different socioeconomic indicators, poverty rate for individuals was the highest, followed by the poverty rate for families. Lastly, the unemployment rate was the lowest. "
   ]
  },
  {
   "cell_type": "markdown",
   "id": "5dd15484",
   "metadata": {},
   "source": [
    "**Research Question 3**\n",
    "What is the relationship between child care cost and average income in the year 2018 in North Carolina?"
   ]
  },
  {
   "cell_type": "code",
   "execution_count": null,
   "id": "ba9bb0cc",
   "metadata": {},
   "outputs": [],
   "source": [
    "nc_year_grouped = nc_childcare.groupby('mhi_2018')[['mfcc_infant', 'mfcc_toddler', 'mfcc_preschool']].mean()\n",
    "nc_year_grouped = nc_year_grouped.reset_index()\n",
    "melted_data = pd.melt(nc_year_grouped, id_vars=['mhi_2018'], value_vars=['mfcc_infant', 'mfcc_toddler', 'mfcc_preschool'], var_name='Child Stage', value_name='Mean of Median Price Charge for Family Childcare')\n",
    "plt.figure(figsize=(14, 8))\n",
    "g3 = sns.scatterplot(x='mhi_2018', y=\"Mean of Median Price Charge for Family Childcare\", hue=\"Child Stage\",palette='Accent',data=melted_data,s=20)\n",
    "plt.title('Median Household Income and Average Price for Childcare in 2018')\n",
    "plt.xlabel('Median Household Income 2018')\n",
    "plt.ylabel('Average Price Charge for Family Childcare')\n",
    "\n",
    "new_labels = ['Infant', 'Toddler', 'Preschool']\n",
    "g3.get_legend().set_title(\"Child Stage\")\n",
    "for t, l in zip(g3.get_legend().texts, new_labels):\n",
    "    t.set_text(l)\n",
    "    \n",
    "plt.show()    "
   ]
  },
  {
   "cell_type": "markdown",
   "id": "e7be6d65",
   "metadata": {},
   "source": [
    "Based on the scatterplot of the relationship between child care cost and average income in the year 2018 in North Carolina, we are able to make two general observations.\n",
    "\n",
    "1. There is a positive relationship between the median household income and average price charge for family childcare cost in 2018.\n",
    "2. Between the different child stages, families spend the most on childcare when the child was an infant (0-23 months), then when the child was a toddler(24-35 months), and lastly they spent the least when the child was in preschool(36-54 months)."
   ]
  },
  {
   "cell_type": "markdown",
   "id": "ca8d8d17",
   "metadata": {},
   "source": [
    "# Linear regression models"
   ]
  },
  {
   "cell_type": "code",
   "execution_count": null,
   "id": "64be5e5c",
   "metadata": {},
   "outputs": [],
   "source": [
    "## only select 2018 for linear regression, prepare data for model by replacing NAs\n",
    "nc_childcare_2018 = nc_childcare[nc_childcare[\"study_year\"] == 2018]\n",
    "nc_childcare_2018 = nc_childcare_2018.dropna(subset=[\"mcsa\"])"
   ]
  },
  {
   "cell_type": "markdown",
   "id": "5e57b22f",
   "metadata": {},
   "source": [
    "### Predicting median childcare cost for schoolage children given median income, unemployment rate, and poverty rate:"
   ]
  },
  {
   "cell_type": "code",
   "execution_count": null,
   "id": "6d0289d9",
   "metadata": {},
   "outputs": [],
   "source": [
    "from sklearn.linear_model import LinearRegression\n",
    "from sklearn.metrics import mean_squared_error\n",
    "from sklearn.metrics import r2_score"
   ]
  },
  {
   "cell_type": "code",
   "execution_count": null,
   "id": "a3ad42e5",
   "metadata": {},
   "outputs": [],
   "source": [
    "## this linear model is supposed to use the predictors in household_data to predict median childcare for schoolaged children\n",
    "\n",
    "linear_model = LinearRegression()\n",
    "# unemployment rate, poverty rate for families, median household income\n",
    "household_data = nc_childcare_2018[[\"unr_16\", \"pr_f\", \"mhi_2018\"]].values\n",
    "# mcsa --> \"Weekly, full-time median price charged for Center-Based Care for those who are school age based on the results reported in the market rate survey report for the county or the rate zone/cluster to which the county is assigned.\"\n",
    "target = nc_childcare_2018[\"mcsa\"].values\n",
    "linear_model.fit(X = household_data, y = target)\n",
    "\n",
    "nc_childcare_2018[\"predicted_childcare_cost_schoolage\"] = linear_model.predict(household_data)\n",
    "\n",
    "nc_childcare_2018[\"baseline\"] = nc_childcare_2018[\"mcsa\"].median()\n",
    "\n",
    "mse = mean_squared_error(nc_childcare_2018[\"mcsa\"].values, nc_childcare_2018[\"predicted_childcare_cost_schoolage\"].values)\n",
    "r2 = r2_score(nc_childcare_2018[\"mcsa\"].values, nc_childcare_2018[\"predicted_childcare_cost_schoolage\"].values)\n",
    "mse_base = mean_squared_error(nc_childcare_2018[\"mcsa\"].values, nc_childcare_2018[\"baseline\"].values)\n",
    "r2_base = r2_score(nc_childcare_2018[\"mcsa\"].values, nc_childcare_2018[\"baseline\"].values)\n",
    "\n",
    "print(\"MSE model\", mse, \"R2 model\", r2)\n",
    "print(\"MSE baseline\", mse_base, \"R2 base\", r2_base)"
   ]
  },
  {
   "cell_type": "code",
   "execution_count": null,
   "id": "0db067b3",
   "metadata": {},
   "outputs": [],
   "source": [
    "## can conclude that including median household income does improve the accuracy of the model\n",
    "\n",
    "## this linear model is supposed to use the predictors in household_data to predict median childcare for schoolaged children\n",
    "\n",
    "linear_model = LinearRegression()\n",
    "# unemployment rate, poverty rate for families, median household income\n",
    "household_data = nc_childcare_2018[[\"unr_16\", \"pr_f\"]].values\n",
    "# mcsa --> \"Weekly, full-time median price charged for Center-Based Care for those who are school age based on the results reported in the market rate survey report for the county or the rate zone/cluster to which the county is assigned.\"\n",
    "target = nc_childcare_2018[\"mcsa\"].values\n",
    "linear_model.fit(X = household_data, y = target)\n",
    "\n",
    "nc_childcare_2018[\"predicted_childcare_cost_schoolage\"] = linear_model.predict(household_data)\n",
    "\n",
    "nc_childcare_2018[\"baseline\"] = nc_childcare_2018[\"mcsa\"].median()\n",
    "\n",
    "mse = mean_squared_error(nc_childcare_2018[\"mcsa\"].values, nc_childcare_2018[\"predicted_childcare_cost_schoolage\"].values)\n",
    "r2 = r2_score(nc_childcare_2018[\"mcsa\"].values, nc_childcare_2018[\"predicted_childcare_cost_schoolage\"].values)\n",
    "mse_base = mean_squared_error(nc_childcare_2018[\"mcsa\"].values, nc_childcare_2018[\"baseline\"].values)\n",
    "r2_base = r2_score(nc_childcare_2018[\"mcsa\"].values, nc_childcare_2018[\"baseline\"].values)\n",
    "print(\"*mse and r2 for model WITHOUT median household income*\")\n",
    "print(\"MSE model,\", mse, \"R2 model\", r2)"
   ]
  },
  {
   "cell_type": "markdown",
   "id": "b7808a85",
   "metadata": {},
   "source": [
    "#### Conclusions from model:\n",
    "\n",
    "Our first model appears to explain about 26.82% of the variability in our data, with a MSE of 212.17. **good or bad??**. We next removed the \"mhi_2018\" variable, which represents median household income, as a predictor in our model. This yielded a lower R^2 of about 0.1260, or 12.60%, and a higher MSE of 254.07. Thus, including median household income as a predictor of median household income improved our model."
   ]
  },
  {
   "cell_type": "markdown",
   "id": "4fd294e7",
   "metadata": {},
   "source": [
    "### Predicting median childcare cost for schoolage children given number of household, county percentage hispanic, and median household income"
   ]
  },
  {
   "cell_type": "code",
   "execution_count": null,
   "id": "4665e5b7",
   "metadata": {},
   "outputs": [],
   "source": [
    "## this linear model is supposed to use the predictors in household_data to predict median childcare for schoolaged children\n",
    "\n",
    "linear_model = LinearRegression()\n",
    "# unemployment rate, poverty rate for families, median household income\n",
    "household_data = nc_childcare_2018[[\"hispanic\", \"mhi_2018\", \"households\"]].values\n",
    "# mcsa --> \"Weekly, full-time median price charged for Center-Based Care for those who are school age based on the results reported in the market rate survey report for the county or the rate zone/cluster to which the county is assigned.\"\n",
    "target = nc_childcare_2018[\"mcsa\"].values\n",
    "linear_model.fit(X = household_data, y = target)\n",
    "\n",
    "nc_childcare_2018[\"predicted_childcare_cost_byhispanic\"] = linear_model.predict(household_data)\n",
    "\n",
    "nc_childcare_2018[\"baseline\"] = nc_childcare_2018[\"mcsa\"].median()\n",
    "\n",
    "mse = mean_squared_error(nc_childcare_2018[\"mcsa\"].values, nc_childcare_2018[\"predicted_childcare_cost_byhispanic\"].values)\n",
    "r2 = r2_score(nc_childcare_2018[\"mcsa\"].values, nc_childcare_2018[\"predicted_childcare_cost_byhispanic\"].values)\n",
    "mse_base = mean_squared_error(nc_childcare_2018[\"mcsa\"].values, nc_childcare_2018[\"baseline\"].values)\n",
    "r2_base = r2_score(nc_childcare_2018[\"mcsa\"].values, nc_childcare_2018[\"baseline\"].values)\n",
    "\n",
    "print(\"MSE model\", mse, \"R2 model\", r2)\n",
    "print(\"MSE baseline\", mse_base, \"R2 base\", r2_base)"
   ]
  },
  {
   "cell_type": "code",
   "execution_count": null,
   "id": "8e009366",
   "metadata": {},
   "outputs": [],
   "source": [
    "linear_model = LinearRegression()\n",
    "# unemployment rate, poverty rate for families, median household income\n",
    "household_data = nc_childcare_2018[[\"mhi_2018\", \"households\"]].values\n",
    "# mcsa --> \"Weekly, full-time median price charged for Center-Based Care for those who are school age based on the results reported in the market rate survey report for the county or the rate zone/cluster to which the county is assigned.\"\n",
    "target = nc_childcare_2018[\"mcsa\"].values\n",
    "linear_model.fit(X = household_data, y = target)\n",
    "\n",
    "nc_childcare_2018[\"predicted_childcare_cost_byhispanic\"] = linear_model.predict(household_data)\n",
    "\n",
    "nc_childcare_2018[\"baseline\"] = nc_childcare_2018[\"mcsa\"].median()\n",
    "\n",
    "mse = mean_squared_error(nc_childcare_2018[\"mcsa\"].values, nc_childcare_2018[\"predicted_childcare_cost_byhispanic\"].values)\n",
    "r2 = r2_score(nc_childcare_2018[\"mcsa\"].values, nc_childcare_2018[\"predicted_childcare_cost_byhispanic\"].values)\n",
    "\n",
    "print(\"*MSE and R2 without hispanic predictor*\")\n",
    "print(\"MSE model\", mse, \"R2 model\", r2)"
   ]
  },
  {
   "cell_type": "markdown",
   "id": "38f5e479",
   "metadata": {},
   "source": [
    "#### Conclusions from model:\n",
    "\n",
    "Our first model appears to explain about 32.77% of the variability in our data, with a MSE of 195.42. **good or bad??**. We next removed the \"hispanic\" variable, which median household income, as a predictor in our model. This yielded a lower R^2 of about 0.1260, or 12.60%, and a higher MSE of 254.07. Thus, including median household income as a predictor of median household income improved our model."
   ]
  }
 ],
 "metadata": {
  "kernelspec": {
   "display_name": "Python 3 (ipykernel)",
   "language": "python",
   "name": "python3"
  },
  "language_info": {
   "codemirror_mode": {
    "name": "ipython",
    "version": 3
   },
   "file_extension": ".py",
   "mimetype": "text/x-python",
   "name": "python",
   "nbconvert_exporter": "python",
   "pygments_lexer": "ipython3",
   "version": "3.11.4"
  }
 },
 "nbformat": 4,
 "nbformat_minor": 5
}
